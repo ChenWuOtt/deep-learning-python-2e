{
 "cells": [
  {
   "cell_type": "markdown",
   "metadata": {},
   "source": [
    "## Genaralization"
   ]
  },
  {
   "cell_type": "code",
   "execution_count": null,
   "metadata": {},
   "outputs": [],
   "source": [
    "#import packages\n",
    "import matplotlib.pyplot as plt\n",
    "import numpy as np\n",
    "#Generate a toy dataset\n",
    "x = np.linspace(-1,1,100)\n",
    "signal = 2 + x + 2 * x * x\n",
    "noise = np.random.normal(0, 0.1, 100)\n",
    "y = signal + noise\n",
    "plt.plot(signal,'b'); \n",
    "plt.plot(y,'g')\n",
    "plt.plot(noise, 'r')\n",
    "plt.xlabel(\"x\")\n",
    "plt.ylabel(\"y\")\n",
    "plt.legend([f\"Without Noise\", f\"With Noise\", f\"Noise\"], loc = 2)\n",
    "plt.show()\n",
    "x[0:5]\n",
    "#Extract training from the toy dataset\n",
    "x_train = x[0:80]\n",
    "y_train = y[0:80]\n",
    "print(f\"Shape of x_train: {x_train.shape}\")\n",
    "print(f\"Shape of y_train: {y_train.shape}\")"
   ]
  },
  {
   "cell_type": "code",
   "execution_count": null,
   "metadata": {},
   "outputs": [],
   "source": [
    "#Create a function to build a regression model with parameterized degree of independent coefficients\n",
    "def create_model(x_train,degree):    \n",
    "    degree+=1\n",
    "    X_train = np.column_stack([np.power(x_train,i) for i in range(0,degree)])\n",
    "    model = np.dot(np.dot(np.linalg.inv(np.dot(X_train.transpose(),X_train)),X_train.transpose()),y_train)\n",
    "    plt.plot(x,y,'g') # x and y are global variables\n",
    "    plt.xlabel(\"x\")\n",
    "    plt.ylabel(\"y\")\n",
    "    predicted = np.dot(model, [np.power(x,i) for i in range(0,degree)]) \n",
    "    plt.plot(x, predicted,'r')\n",
    "    plt.legend([\"Actual\", \"Predicted\"], loc = 2)\n",
    "    plt.title(f\"Model with degree = {degree}\")\n",
    "    train_rmse1 = np.sqrt(np.sum(np.dot(y[0:80] - predicted[0:80], y_train - predicted[0:80])))\n",
    "    test_rmse1 = np.sqrt(np.sum(np.dot(y[80:] - predicted[80:], y[80:] - predicted[80:])))\n",
    "    print(f\"Train RMSE (Degree = {degree}): {round(train_rmse1,2)}\")\n",
    "    print(f\" Test RMSE (Degree = {degree}): {round(test_rmse1,2)}\")\n",
    "    plt.show()\t\n",
    "\n"
   ]
  },
  {
   "cell_type": "code",
   "execution_count": null,
   "metadata": {},
   "outputs": [],
   "source": [
    "#Create a model with degree = 1 using the function\n",
    "create_model(x_train,1)"
   ]
  },
  {
   "cell_type": "code",
   "execution_count": null,
   "metadata": {},
   "outputs": [],
   "source": [
    "#Create a model with degree=2\n",
    "create_model(x_train,2)"
   ]
  },
  {
   "cell_type": "code",
   "execution_count": null,
   "metadata": {},
   "outputs": [],
   "source": [
    "#Create a model with degree=8\n",
    "create_model(x_train,8)"
   ]
  },
  {
   "cell_type": "markdown",
   "metadata": {},
   "source": [
    "## Regularization"
   ]
  },
  {
   "cell_type": "code",
   "execution_count": null,
   "metadata": {},
   "outputs": [],
   "source": [
    "#Listing 1-5. Regularization\n",
    "import matplotlib.pyplot as plt\n",
    "import numpy as np\n",
    "\n",
    "#Setting seed for reproducibility\n",
    "np.random.seed(20)\n",
    "\n",
    "#Create random data\n",
    "x = np.linspace(-1,1,100)\n",
    "signal = 2 + x + 2 * x * x\n",
    "noise = np.random.normal(0, 0.1, 100)\n",
    "y = signal + noise\n",
    "x_train = x[0:80]\n",
    "y_train = y[0:80]\n",
    "\n",
    "train_rmse = []\n",
    "test_rmse = []\n",
    "degree = 80"
   ]
  },
  {
   "cell_type": "code",
   "execution_count": null,
   "metadata": {},
   "outputs": [],
   "source": [
    "# Define a range of values for lambda\n",
    "lambda_reg_values = np.linspace(0.01,0.99,100) # total 100 lambdas\n",
    "\n",
    "#For each value of lambda, computer builds model and computes performance\n",
    "for lambda_reg in lambda_reg_values:\n",
    "    X_train = np.column_stack([np.power(x_train,i) for i in range(0,degree)])\n",
    "    # Using least squares to build model\n",
    "    c = np.dot(X_train.transpose(),X_train) # X.T * X\n",
    "    a = np.linalg.inv( c + lambda_reg * np.identity(degree))\n",
    "    model = np.dot(np.dot(a,X_train.transpose()),y_train) # this is \"Beta\"\n",
    "    predicted = np.dot(model, [np.power(x,i) for i in range(0,degree)])\n",
    "    train_rmse.append(np.sqrt(np.sum(np.dot(y[0:80] - predicted[0:80], y_train - predicted[0:80]))))\n",
    "    test_rmse.append(np.sqrt(np.sum(np.dot(y[80:] - predicted[80:], y[80:] - predicted[80:]))))\n",
    "\n",
    "#Plot the performance over train and test dataset.\n",
    "plt.plot(lambda_reg_values, train_rmse)\n",
    "plt.plot(lambda_reg_values, test_rmse)\n",
    "plt.xlabel(r\"$\\lambda$\")\n",
    "plt.ylabel(\"RMSE\")\n",
    "plt.legend([\"Train\", \"Test\"], loc = 2)\n",
    "plt.show()\n",
    "\n"
   ]
  },
  {
   "cell_type": "code",
   "execution_count": null,
   "metadata": {},
   "outputs": [],
   "source": []
  }
 ],
 "metadata": {
  "kernelspec": {
   "display_name": "Python 3",
   "language": "python",
   "name": "python3"
  },
  "language_info": {
   "codemirror_mode": {
    "name": "ipython",
    "version": 3
   },
   "file_extension": ".py",
   "mimetype": "text/x-python",
   "name": "python",
   "nbconvert_exporter": "python",
   "pygments_lexer": "ipython3",
   "version": "3.12.4"
  }
 },
 "nbformat": 4,
 "nbformat_minor": 2
}
