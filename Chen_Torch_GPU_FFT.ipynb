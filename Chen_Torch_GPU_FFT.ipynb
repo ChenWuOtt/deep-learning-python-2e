{
 "cells": [
  {
   "cell_type": "code",
   "execution_count": 23,
   "metadata": {},
   "outputs": [
    {
     "name": "stdout",
     "output_type": "stream",
     "text": [
      "GPU is available\n",
      "Number of GPUs available: 1\n",
      "NVIDIA RTX A4500 Laptop GPU\n",
      "67108864\n",
      "Elapsed time: 1.1311769485473633 seconds\n",
      "Elapsed time: 192.3041229248047 milliseconds\n"
     ]
    }
   ],
   "source": [
    "import time\n",
    "import torch\n",
    "\n",
    "# 1. Check if a GPU is available:\n",
    "if torch.cuda.is_available():\n",
    "    print(\"GPU is available\")\n",
    "else:\n",
    "    print(\"GPU is not available\")\n",
    "    \n",
    "# 2. Get the number of available GPUs:\n",
    "num_gpus = torch.cuda.device_count()\n",
    "print(f\"Number of GPUs available: {num_gpus}\")\n",
    "\n",
    "#3. Get the properties of each GPU:\n",
    "for i in range(torch.cuda.device_count()):\n",
    "    print(torch.cuda.get_device_properties(i).name)\n",
    "\n",
    "# Create a tensor of 1024 complex numbers\n",
    "a = 2**26\n",
    "print(a)\n",
    "x = torch.randn(a, dtype=torch.cfloat)\n",
    "\n",
    "# Start time\n",
    "start_time = time.time()\n",
    "# Move the tensor to GPU\n",
    "x = x.to('cuda')\n",
    "# Perform FFT on the GPU\n",
    "fft_result = torch.fft.fft(x)\n",
    "# End time\n",
    "end_time = time.time()\n",
    "print(f\"Elapsed time: {end_time - start_time} seconds\")\n",
    "\n",
    "# For more accurate timing on GPU, you can use torch.cuda.Event:\n",
    "# Create CUDA events\n",
    "start_event = torch.cuda.Event(enable_timing=True)\n",
    "end_event = torch.cuda.Event(enable_timing=True)\n",
    "# Record start event\n",
    "start_event.record()\n",
    "# Perform FFT on the GPU\n",
    "fft_result = torch.fft.fft(x)\n",
    "# Record end event\n",
    "end_event.record()\n",
    "# Wait for everything to finish running\n",
    "torch.cuda.synchronize()\n",
    "# Calculate elapsed time\n",
    "elapsed_time = start_event.elapsed_time(end_event)  # Time in milliseconds\n",
    "print(f\"Elapsed time: {elapsed_time} milliseconds\")\n",
    "\n",
    "#print(fft_result)\n"
   ]
  }
 ],
 "metadata": {
  "kernelspec": {
   "display_name": ".venv",
   "language": "python",
   "name": "python3"
  },
  "language_info": {
   "codemirror_mode": {
    "name": "ipython",
    "version": 3
   },
   "file_extension": ".py",
   "mimetype": "text/x-python",
   "name": "python",
   "nbconvert_exporter": "python",
   "pygments_lexer": "ipython3",
   "version": "3.11.0rc2"
  }
 },
 "nbformat": 4,
 "nbformat_minor": 2
}
